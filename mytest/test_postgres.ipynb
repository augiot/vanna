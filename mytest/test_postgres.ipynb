{
 "cells": [
  {
   "cell_type": "code",
   "execution_count": 14,
   "metadata": {},
   "outputs": [],
   "source": [
    "# %pip install 'vanna[chromadb,postgres]'\n",
    "# %pip install chromadb"
   ]
  },
  {
   "cell_type": "code",
   "execution_count": 2,
   "metadata": {},
   "outputs": [],
   "source": [
    "import os\n",
    "import sys\n",
    "project_dir = '/mnt/user2/workspace/Aug/code/Chat/exp/vanna/'\n",
    "# 将父级目录的父级目录添加到系统路径中\n",
    "sys.path.append(project_dir)"
   ]
  },
  {
   "cell_type": "code",
   "execution_count": 3,
   "metadata": {},
   "outputs": [],
   "source": [
    "from src.vanna.base import VannaBase\n",
    "from src.vanna.chromadb.chromadb_vector import ChromaDB_VectorStore"
   ]
  },
  {
   "cell_type": "code",
   "execution_count": 4,
   "metadata": {},
   "outputs": [],
   "source": [
    "class MyCustomLLM(VannaBase):\n",
    "    def __init__(self, config=None):\n",
    "        pass\n",
    "\n",
    "    def generate_plotly_code(self, question: str = None, sql: str = None, df_metadata: str = None, **kwargs) -> str:\n",
    "        # Implement here\n",
    "        pass    \n",
    "\n",
    "    def generate_question(self, sql: str, **kwargs) -> str:\n",
    "        # Implement here\n",
    "        pass\n",
    "        \n",
    "    def get_followup_questions_prompt(self, question: str, question_sql_list: list, ddl_list: list, doc_list: list, **kwargs):\n",
    "        # Implement here\n",
    "        pass\n",
    "    \n",
    "    def get_sql_prompt(self, question: str, question_sql_list: list, ddl_list: list, doc_list: list, **kwargs):\n",
    "        # Implement here\n",
    "        pass\n",
    "\n",
    "    def submit_prompt(self, prompt, **kwargs) -> str:\n",
    "        # Implement here\n",
    "        pass\n",
    "            \n",
    "\n",
    "class MyVanna(ChromaDB_VectorStore, MyCustomLLM):\n",
    "    def __init__(self, config=None):\n",
    "        ChromaDB_VectorStore.__init__(self, config=config)\n",
    "        MyCustomLLM.__init__(self, config=config)\n",
    "\n",
    "vn = MyVanna()"
   ]
  },
  {
   "cell_type": "code",
   "execution_count": 5,
   "metadata": {},
   "outputs": [
    {
     "ename": "DependencyError",
     "evalue": "You need to install required dependencies to execute this method, run command: \npip install vanna[postgres]",
     "output_type": "error",
     "traceback": [
      "\u001b[0;31m---------------------------------------------------------------------------\u001b[0m",
      "\u001b[0;31mModuleNotFoundError\u001b[0m                       Traceback (most recent call last)",
      "File \u001b[0;32m~/workspace/Aug/code/Chat/exp/vanna/src/vanna/base/base.py:313\u001b[0m, in \u001b[0;36mVannaBase.connect_to_postgres\u001b[0;34m(self, host, dbname, user, password, port)\u001b[0m\n\u001b[1;32m    312\u001b[0m \u001b[39mtry\u001b[39;00m:\n\u001b[0;32m--> 313\u001b[0m     \u001b[39mimport\u001b[39;00m \u001b[39mpsycopg2\u001b[39;00m\n\u001b[1;32m    314\u001b[0m     \u001b[39mimport\u001b[39;00m \u001b[39mpsycopg2\u001b[39;00m\u001b[39m.\u001b[39;00m\u001b[39mextras\u001b[39;00m\n",
      "\u001b[0;31mModuleNotFoundError\u001b[0m: No module named 'psycopg2'",
      "\nDuring handling of the above exception, another exception occurred:\n",
      "\u001b[0;31mDependencyError\u001b[0m                           Traceback (most recent call last)",
      "\u001b[1;32m/mnt/user2/workspace/Aug/code/Chat/exp/vanna/mytest/test_postgres.ipynb Cell 5\u001b[0m line \u001b[0;36m1\n\u001b[0;32m----> <a href='vscode-notebook-cell://ssh-remote%2Bwskx_187/mnt/user2/workspace/Aug/code/Chat/exp/vanna/mytest/test_postgres.ipynb#W4sdnNjb2RlLXJlbW90ZQ%3D%3D?line=0'>1</a>\u001b[0m vn\u001b[39m.\u001b[39;49mconnect_to_postgres(host\u001b[39m=\u001b[39;49m\u001b[39m'\u001b[39;49m\u001b[39m10.176.44.71\u001b[39;49m\u001b[39m'\u001b[39;49m, dbname\u001b[39m=\u001b[39;49m\u001b[39m'\u001b[39;49m\u001b[39mcnc\u001b[39;49m\u001b[39m'\u001b[39;49m, user\u001b[39m=\u001b[39;49m\u001b[39m'\u001b[39;49m\u001b[39mcnc_pmodel\u001b[39;49m\u001b[39m'\u001b[39;49m, password\u001b[39m=\u001b[39;49m\u001b[39m'\u001b[39;49m\u001b[39mcnc_pmodel.sis\u001b[39;49m\u001b[39m'\u001b[39;49m, port\u001b[39m=\u001b[39;49m\u001b[39m'\u001b[39;49m\u001b[39m5432\u001b[39;49m\u001b[39m'\u001b[39;49m)\n",
      "File \u001b[0;32m~/workspace/Aug/code/Chat/exp/vanna/src/vanna/base/base.py:316\u001b[0m, in \u001b[0;36mVannaBase.connect_to_postgres\u001b[0;34m(self, host, dbname, user, password, port)\u001b[0m\n\u001b[1;32m    314\u001b[0m     \u001b[39mimport\u001b[39;00m \u001b[39mpsycopg2\u001b[39;00m\u001b[39m.\u001b[39;00m\u001b[39mextras\u001b[39;00m\n\u001b[1;32m    315\u001b[0m \u001b[39mexcept\u001b[39;00m \u001b[39mImportError\u001b[39;00m:\n\u001b[0;32m--> 316\u001b[0m     \u001b[39mraise\u001b[39;00m DependencyError(\n\u001b[1;32m    317\u001b[0m         \u001b[39m\"\u001b[39m\u001b[39mYou need to install required dependencies to execute this method,\u001b[39m\u001b[39m\"\u001b[39m\n\u001b[1;32m    318\u001b[0m         \u001b[39m\"\u001b[39m\u001b[39m run command: \u001b[39m\u001b[39m\\n\u001b[39;00m\u001b[39mpip install vanna[postgres]\u001b[39m\u001b[39m\"\u001b[39m\n\u001b[1;32m    319\u001b[0m     )\n\u001b[1;32m    321\u001b[0m \u001b[39mif\u001b[39;00m \u001b[39mnot\u001b[39;00m host:\n\u001b[1;32m    322\u001b[0m     host \u001b[39m=\u001b[39m os\u001b[39m.\u001b[39mgetenv(\u001b[39m\"\u001b[39m\u001b[39mHOST\u001b[39m\u001b[39m\"\u001b[39m)\n",
      "\u001b[0;31mDependencyError\u001b[0m: You need to install required dependencies to execute this method, run command: \npip install vanna[postgres]"
     ]
    }
   ],
   "source": [
    "vn.connect_to_postgres(host='10.176.44.71', dbname='cnc', user='cnc_pmodel', password='cnc_pmodel.sis', port='5432')"
   ]
  },
  {
   "cell_type": "code",
   "execution_count": null,
   "metadata": {},
   "outputs": [],
   "source": []
  }
 ],
 "metadata": {
  "kernelspec": {
   "display_name": "vanna",
   "language": "python",
   "name": "python3"
  },
  "language_info": {
   "codemirror_mode": {
    "name": "ipython",
    "version": 3
   },
   "file_extension": ".py",
   "mimetype": "text/x-python",
   "name": "python",
   "nbconvert_exporter": "python",
   "pygments_lexer": "ipython3",
   "version": "3.10.13"
  }
 },
 "nbformat": 4,
 "nbformat_minor": 2
}
